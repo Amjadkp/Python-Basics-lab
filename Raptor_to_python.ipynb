{
  "nbformat": 4,
  "nbformat_minor": 0,
  "metadata": {
    "colab": {
      "provenance": [],
      "authorship_tag": "ABX9TyNkzklgkvjrJuEkYcyOUZXl",
      "include_colab_link": true
    },
    "kernelspec": {
      "name": "python3",
      "display_name": "Python 3"
    },
    "language_info": {
      "name": "python"
    }
  },
  "cells": [
    {
      "cell_type": "markdown",
      "metadata": {
        "id": "view-in-github",
        "colab_type": "text"
      },
      "source": [
        "<a href=\"https://colab.research.google.com/github/ASWINSURESH666/Python-Basics-lab/blob/main/Raptor_to_python.ipynb\" target=\"_parent\"><img src=\"https://colab.research.google.com/assets/colab-badge.svg\" alt=\"Open In Colab\"/></a>"
      ]
    },
    {
      "cell_type": "code",
      "execution_count": null,
      "metadata": {
        "colab": {
          "base_uri": "https://localhost:8080/"
        },
        "id": "2Wjd9RrIG4g8",
        "outputId": "ac6feaca-0642-4084-b85c-ebd2cb09cc0e"
      },
      "outputs": [
        {
          "output_type": "stream",
          "name": "stdout",
          "text": [
            "enter a number: 23\n",
            "23 is positive number\n"
          ]
        }
      ],
      "source": [
        "#Given number is -ve or +ve or zero\n",
        "\n",
        "x=int(input\n",
        "  (\"enter a number: \"))\n",
        "if x==0:\n",
        "  print(x, \"is zero\")\n",
        "elif x>0:\n",
        "  print(x, \"is positive number\")\n",
        "else: \n",
        "    print(x, \"is negative\")"
      ]
    },
    {
      "cell_type": "code",
      "source": [
        "#Average of three numbers\n",
        "\n",
        "num1=float(input(\"enter the first number= \"))\n",
        "num2=float(input(\"enter the second number= \"))\n",
        "num3=float(input(\"enter the third number= \"))\n",
        "average=(num1+num2+num3)/3\n",
        "print(\"average of three numbers is= \",average)"
      ],
      "metadata": {
        "colab": {
          "base_uri": "https://localhost:8080/"
        },
        "id": "jf06Hf0C9czN",
        "outputId": "d8a44b3b-5f83-46da-a595-c626ec93df5a"
      },
      "execution_count": null,
      "outputs": [
        {
          "output_type": "stream",
          "name": "stdout",
          "text": [
            "enter the first number= 28\n",
            "enter the second number= 26\n",
            "enter the third number= 36\n",
            "average of three numbers is=  30.0\n"
          ]
        }
      ]
    },
    {
      "cell_type": "code",
      "source": [
        "# Area and Perimeter Of Triangle\n",
        "\n",
        "side1 = int(input(\"enter side1 \"))\n",
        "side2 = int(input(\"enter side2 \"))\n",
        "side3 = int(input(\"enter side3 \"))\n",
        "perimeter=side1+side2+side3\n",
        "s=(side1+side2+side3)/2\n",
        "Area = (s*(s-side1)*(s-side2)*(s-side3))\n",
        "print(\"The Area of triangle is \",Area)\n",
        "print(\"The perimeter of triangle is \",perimeter)"
      ],
      "metadata": {
        "id": "yvkwG5UYF6GV",
        "colab": {
          "base_uri": "https://localhost:8080/"
        },
        "outputId": "2b6ebd4c-953d-45c6-a8a9-5dbc100755cf"
      },
      "execution_count": null,
      "outputs": [
        {
          "output_type": "stream",
          "name": "stdout",
          "text": [
            "enter side1 20\n",
            "enter side2 40\n",
            "enter side3 44\n",
            "The Area of triangle is  159744.0\n",
            "The perimeter of triangle is  104\n"
          ]
        }
      ]
    },
    {
      "cell_type": "code",
      "source": [
        "# Print the Area of a Circle\n",
        "radius=int(input(\"radius of circle \"))\n",
        "area=3.14*radius*radius\n",
        "print(\"Area of circle is \",area)"
      ],
      "metadata": {
        "colab": {
          "base_uri": "https://localhost:8080/"
        },
        "id": "i4SpckEFL3d2",
        "outputId": "36e74dfd-c937-497d-c403-1edabd0b51a3"
      },
      "execution_count": null,
      "outputs": [
        {
          "output_type": "stream",
          "name": "stdout",
          "text": [
            "radius of circle 10\n",
            "Area of circle is  314.0\n"
          ]
        }
      ]
    },
    {
      "cell_type": "code",
      "source": [
        "# smallest of 3 numbers\n",
        "num1=int(input(\"enter first number \"))\n",
        "num2=int(input(\"enter second number \"))\n",
        "num3=int(input(\"enter third number \"))\n",
        "if num1<num2 and num1<num3:\n",
        "  print(\"num1 is smallest\",num1)\n",
        "elif num2<num1 and num2<num3:\n",
        "  print(\"num2 is smallest\",num2)\n",
        "else:\n",
        "  print(\"num3 is smallest\",num3)\n"
      ],
      "metadata": {
        "colab": {
          "base_uri": "https://localhost:8080/"
        },
        "id": "oBUjBQ3ZOAks",
        "outputId": "389530d4-06f3-4aef-e191-682f795f0042"
      },
      "execution_count": null,
      "outputs": [
        {
          "output_type": "stream",
          "name": "stdout",
          "text": [
            "enter first number 40\n",
            "enter second number 20\n",
            "enter third number 10\n",
            "num3 is smallest 10\n"
          ]
        }
      ]
    },
    {
      "cell_type": "code",
      "source": [
        "# check whether a number is a multiple of another\n",
        "\n",
        "divident=int(input(\"enter the first number \"))\n",
        "divisor=int(input(\"enter the multiple number\"))\n",
        "if divident%divisor==0:\n",
        "  print(str(divident)+\" is a multiple of \"+str(divisor))\n",
        "else:\n",
        "    print(str(divident)+\" is not a multiple of \"+str(divisor))"
      ],
      "metadata": {
        "colab": {
          "base_uri": "https://localhost:8080/"
        },
        "id": "w1rah-zNaD8G",
        "outputId": "130b1d68-1f8d-4cc8-92bb-9b5a92cdd15e"
      },
      "execution_count": null,
      "outputs": [
        {
          "output_type": "stream",
          "name": "stdout",
          "text": [
            "enter the first number 20\n",
            "enter the multiple number3\n",
            "20 is not a multiple of 3\n"
          ]
        }
      ]
    },
    {
      "cell_type": "code",
      "source": [
        "# smallest digit in a two digit number\n",
        "\n",
        "num=int(input(\"enter a two digit number \"))\n",
        "digit1=num%10\n",
        "digit2=num//10\n",
        "if digit1>digit2:\n",
        "  print(digit2,\" is the smallest digit in \",num)\n",
        "elif digit1==digit2:\n",
        "    print(\"Both digits are same\")\n",
        "else:\n",
        "      print(digit1,\" is the smallest digit in \",num)"
      ],
      "metadata": {
        "colab": {
          "base_uri": "https://localhost:8080/"
        },
        "id": "l5Nzx2ydjXat",
        "outputId": "5f092ee8-b492-44c1-933e-8ffb3e190548"
      },
      "execution_count": null,
      "outputs": [
        {
          "output_type": "stream",
          "name": "stdout",
          "text": [
            "enter a two digit number 87\n",
            "7  is the smallest digit in  87\n"
          ]
        }
      ]
    },
    {
      "cell_type": "code",
      "source": [
        "# nature of solution of a quadratic equation\n",
        "\n",
        "a=float(input(\"enter the coefficient of x^2 \"))\n",
        "b=float(input(\"enter the coefficient of x \"))\n",
        "c=float(input(\"enter the constant term \"))\n",
        "d=b*b-4*a*c\n",
        "if d==0:\n",
        " print(\"real and equal roots\")\n",
        "elif d>0:\n",
        "  print(\"real and unequal\")\n",
        "else:\n",
        "    print(\"imaginary roots\")"
      ],
      "metadata": {
        "colab": {
          "base_uri": "https://localhost:8080/"
        },
        "id": "-TUCYFnBpEuQ",
        "outputId": "a1da2828-3e14-47a9-d34b-1702e431f257"
      },
      "execution_count": null,
      "outputs": [
        {
          "output_type": "stream",
          "name": "stdout",
          "text": [
            "enter the coefficient of x^2 11\n",
            "enter the coefficient of x 15\n",
            "enter the constant term 2\n",
            "real and unequal\n"
          ]
        }
      ]
    },
    {
      "cell_type": "code",
      "source": [
        "# number is two digit or not\n",
        "\n",
        "num=float(input(\"enter any number\"))\n",
        "if num>=10 or num<=99:\n",
        "  print(num,\" is a two digit number \")\n",
        "else:\n",
        "    print(num,\" is not a two digit number \")"
      ],
      "metadata": {
        "colab": {
          "base_uri": "https://localhost:8080/"
        },
        "id": "7IbiQ9azwf3g",
        "outputId": "7e64c22e-0b11-4ad8-c0c6-df8e7de4bcfc"
      },
      "execution_count": null,
      "outputs": [
        {
          "output_type": "stream",
          "name": "stdout",
          "text": [
            "enter any number24\n",
            "24.0  is a two digit number \n"
          ]
        }
      ]
    },
    {
      "cell_type": "code",
      "source": [
        "# Sum and Average of Three Numbers\n",
        "\n",
        "num1=float(input(\"enter the first number \"))\n",
        "num2=float(input(\"enter the second number \"))\n",
        "num3=float(input(\"enter the third number \"))\n",
        "sum=num1+num2+num3\n",
        "average=(num1+num2+num3)/2\n",
        "print(\"sum of three number \",sum)\n",
        "print(\"average of three number \",average)"
      ],
      "metadata": {
        "colab": {
          "base_uri": "https://localhost:8080/"
        },
        "id": "B4nOzxG9127V",
        "outputId": "f8e48c60-546d-4fc0-8c0e-1fe739722756"
      },
      "execution_count": null,
      "outputs": [
        {
          "output_type": "stream",
          "name": "stdout",
          "text": [
            "enter the first number 2\n",
            "enter the second number 4\n",
            "enter the third number 6\n",
            "sum of three number  12.0\n",
            "average of three number  6.0\n"
          ]
        }
      ]
    },
    {
      "cell_type": "code",
      "source": [
        "# Time Entered in Seconds to Hours , Minutes , Seconds\n",
        "\n",
        "second=int(input(\"enter the time \"))\n",
        "ss=second%60\n",
        "mm=second//60\n",
        "hh=mm//60\n",
        "mm=mm%60\n",
        "print(hh,\":\",mm,\":\",ss)"
      ],
      "metadata": {
        "colab": {
          "base_uri": "https://localhost:8080/"
        },
        "id": "lUR-6wDK3uHP",
        "outputId": "50536a07-e73a-4251-f52c-1d9ae5903814"
      },
      "execution_count": null,
      "outputs": [
        {
          "output_type": "stream",
          "name": "stdout",
          "text": [
            "enter the time 8900\n",
            "2 : 28 : 20\n"
          ]
        }
      ]
    },
    {
      "cell_type": "code",
      "source": [
        "# two Unequal Number and Interchange them without using a Third Variable\n",
        "\n",
        "a=int(input(\"Enter A= \"))\n",
        "b=int(input(\"Enter B= \"))\n",
        "a=a+b\n",
        "b=a-b\n",
        "a=a-b\n",
        "print(\"A is \",a)\n",
        "print(\"B is \",b)"
      ],
      "metadata": {
        "colab": {
          "base_uri": "https://localhost:8080/"
        },
        "id": "sLmGRgbC9bCJ",
        "outputId": "b8394d3a-f75d-4c90-b8c4-ed1d8fb77753"
      },
      "execution_count": null,
      "outputs": [
        {
          "output_type": "stream",
          "name": "stdout",
          "text": [
            "Enter A= 7\n",
            "Enter B= 80\n",
            "A is  80\n",
            "B is  7\n"
          ]
        }
      ]
    },
    {
      "cell_type": "code",
      "source": [
        "# the Number of Days and display into Years, Months and Days\n",
        "days=int(input(\"Enter days= \"))\n",
        "dd=days%365\n",
        "mm=days//30\n",
        "yy=mm//12\n",
        "mm=mm%12\n",
        "print(yy,\":\",mm,\":\",dd)\n"
      ],
      "metadata": {
        "colab": {
          "base_uri": "https://localhost:8080/"
        },
        "id": "82Xc3w0lBbQe",
        "outputId": "0c4be492-4c14-45af-a16d-7746e3b2dffe"
      },
      "execution_count": null,
      "outputs": [
        {
          "output_type": "stream",
          "name": "stdout",
          "text": [
            "Enter days= 760\n",
            "2 : 1 : 30\n"
          ]
        }
      ]
    },
    {
      "cell_type": "code",
      "source": [
        "# the biggest of two numbers\n",
        "num1=int(input(\"enter first number \"))\n",
        "num2=int(input(\"enter second number \"))\n",
        "if num1>num2:\n",
        "  print(num1,\" is bigger than \",num2)\n",
        "else:\n",
        "  print(num2,\" is bigger than \",num1)"
      ],
      "metadata": {
        "colab": {
          "base_uri": "https://localhost:8080/"
        },
        "id": "UR8c0KEFEMA9",
        "outputId": "6e5ca2a3-c5c2-464e-adf9-7854bc6cfb11"
      },
      "execution_count": null,
      "outputs": [
        {
          "output_type": "stream",
          "name": "stdout",
          "text": [
            "enter first number 78\n",
            "enter second number 90\n",
            "90  is bigger than  78\n"
          ]
        }
      ]
    },
    {
      "cell_type": "code",
      "source": [
        "# the distance between two points on a number line\n",
        "\n",
        "position1=float(input(\"Enter the initial point \"))\n",
        "position2=float(input(\"Enter the final point \"))\n",
        "length=position2-position1\n",
        "if length<0:\n",
        "  length=length*-1\n",
        "print(\"distance is \",length)"
      ],
      "metadata": {
        "colab": {
          "base_uri": "https://localhost:8080/"
        },
        "id": "qK8ijfsBF7Wj",
        "outputId": "bd098093-b63c-460b-f23b-b4a22fbc13bc"
      },
      "execution_count": null,
      "outputs": [
        {
          "output_type": "stream",
          "name": "stdout",
          "text": [
            "Enter the initial point 23\n",
            "Enter the final point 4\n",
            "distance is  19.0\n"
          ]
        }
      ]
    },
    {
      "cell_type": "code",
      "source": [
        "# sum of first N natural numbers\n",
        "\n",
        "limit=int(input(\"Enter the number to which you want the sum \"))\n",
        "sum=0\n",
        "for i in range(1,limit+1):\n",
        " sum=sum+i\n",
        "print(sum)"
      ],
      "metadata": {
        "id": "VcdVJzBxKNjB",
        "colab": {
          "base_uri": "https://localhost:8080/"
        },
        "outputId": "610d383f-09d1-448b-d90e-8859dfe36a3e"
      },
      "execution_count": null,
      "outputs": [
        {
          "output_type": "stream",
          "name": "stdout",
          "text": [
            "Enter the number to which you want the sum 45\n",
            "1035\n"
          ]
        }
      ]
    },
    {
      "cell_type": "code",
      "source": [
        "# the sum of the factors of a number\n",
        "\n",
        "num=int(input(\"Enter a number \"))\n",
        "sum=0\n",
        "for i in range(1,num+1):\n",
        "  if num%i==0:\n",
        "    sum=sum+i\n",
        "print(sum)    "
      ],
      "metadata": {
        "colab": {
          "base_uri": "https://localhost:8080/"
        },
        "id": "tXtxVvM3t3Kw",
        "outputId": "294d3d36-6206-4378-838a-15cedb511448"
      },
      "execution_count": null,
      "outputs": [
        {
          "output_type": "stream",
          "name": "stdout",
          "text": [
            "Enter a number 10\n",
            "18\n"
          ]
        }
      ]
    },
    {
      "cell_type": "code",
      "source": [
        "# N terms of an arithmetic sequence\n",
        "\n",
        "a=int(input(\"enter the first number \"))\n",
        "d=int(input(\"enter the common difference \"))\n",
        "limit=int(input(\"enter the limit \"))\n",
        "for i in range(limit):\n",
        "  sequence=a+(i*d)\n",
        "  print(sequence,end=\" , \")"
      ],
      "metadata": {
        "colab": {
          "base_uri": "https://localhost:8080/"
        },
        "id": "ocg1iJNBvExo",
        "outputId": "4dabb0d3-bdd0-41a2-f46a-ceb36ce992e5"
      },
      "execution_count": null,
      "outputs": [
        {
          "output_type": "stream",
          "name": "stdout",
          "text": [
            "enter the first number 2\n",
            "enter the common difference 4\n",
            "enter the limit 20\n",
            "2 , 6 , 10 , 14 , 18 , 22 , 26 , 30 , 34 , 38 , 42 , 46 , 50 , 54 , 58 , 62 , 66 , 70 , 74 , 78 , "
          ]
        }
      ]
    },
    {
      "cell_type": "code",
      "source": [
        "# n terms of the Fibonacci series\n",
        "\n",
        "limit=int(input(\"enter the limit to which you want the series \"))\n",
        "firstterm=0\n",
        "secondterm=1\n",
        "print(firstterm)\n",
        "print(secondterm)\n",
        "for i in range(3,limit+1):\n",
        "  print(firstterm+secondterm)\n",
        "  temp=firstterm\n",
        "  firstterm=secondterm\n",
        "  secondterm=temp+secondterm"
      ],
      "metadata": {
        "colab": {
          "base_uri": "https://localhost:8080/"
        },
        "id": "zLVZmU6Iw4Ph",
        "outputId": "7da260bc-7385-427d-d5f7-954e6aab6268"
      },
      "execution_count": null,
      "outputs": [
        {
          "output_type": "stream",
          "name": "stdout",
          "text": [
            "enter the limit to which you want the series 8\n",
            "0\n",
            "1\n",
            "1\n",
            "2\n",
            "3\n",
            "5\n",
            "8\n",
            "13\n"
          ]
        }
      ]
    },
    {
      "cell_type": "code",
      "source": [
        "# factorial of a given number\n",
        "\n",
        "lower=int(input(\"enter the lower number \"))\n",
        "upper=int(input(\"enter the upper number \"))\n",
        "for i in range(lower+1,upper):\n",
        "  print(i*i,end=\" , \")"
      ],
      "metadata": {
        "colab": {
          "base_uri": "https://localhost:8080/"
        },
        "id": "c83yHhX4zXaH",
        "outputId": "b99001d5-eec8-4ce4-d24b-6d3478a54a5d"
      },
      "execution_count": null,
      "outputs": [
        {
          "output_type": "stream",
          "name": "stdout",
          "text": [
            "enter the lower number 4\n",
            "enter the upper number 8\n",
            "25 , 36 , 49 , "
          ]
        }
      ]
    },
    {
      "cell_type": "code",
      "source": [
        "# a given number is Automorphic or not\n",
        "\n",
        "num = int(input(\"Enter the num \"))\n",
        "numcopy = num\n",
        "numcopy2 = num\n",
        "length = 0\n",
        "while numcopy>0:\n",
        "  numcopy = numcopy//10\n",
        "  length = length + 1\n",
        "result = pow(num,2)\n",
        "last_digit = result % pow(10,length)\n",
        "if last_digit == num:\n",
        "  print(\"It is an automorphic number\")\n",
        "else:\n",
        "  print(\"It is not an automorphic number\")"
      ],
      "metadata": {
        "id": "iwXJ9FC00erg",
        "colab": {
          "base_uri": "https://localhost:8080/"
        },
        "outputId": "4ab357a7-70bf-45ad-c50d-ea2006789df6"
      },
      "execution_count": null,
      "outputs": [
        {
          "output_type": "stream",
          "name": "stdout",
          "text": [
            "Enter the num 5\n",
            "It is an automorphic number\n"
          ]
        }
      ]
    },
    {
      "cell_type": "code",
      "source": [
        "# read a binary number and print its decimal equivalent.\n",
        "\n",
        "binary_number = int(input(\"Enter the binary number \"))\n",
        "binary_number_copy = binary_number\n",
        "length = 0\n",
        "decimal = 0\n",
        "while binary_number_copy>0:\n",
        "  binary_number_copy = binary_number_copy//10\n",
        "  length = length + 1\n",
        "\n",
        "\n",
        "for i in range(length):\n",
        "    remainder = binary_number%10\n",
        "    binary_number = binary_number//10\n",
        "    decimal = decimal + remainder*pow(2,i)\n",
        "\n",
        "print(decimal)"
      ],
      "metadata": {
        "colab": {
          "base_uri": "https://localhost:8080/"
        },
        "id": "85iCEv1cBZE4",
        "outputId": "63fe47cd-9e9a-487c-e5fe-02ea925681e7"
      },
      "execution_count": null,
      "outputs": [
        {
          "output_type": "stream",
          "name": "stdout",
          "text": [
            "Enter the binary number 1515515\n",
            "307\n"
          ]
        }
      ]
    },
    {
      "cell_type": "code",
      "source": [
        "# sum of the given series, up to n terms. S = 1 - 4 + 9 - 16 + ....\n",
        "\n",
        "num=int(input(\"enter the number of terms \"))\n",
        "sum=0\n",
        "for i in range(1,num+1):\n",
        "  i=i*i\n",
        "  if i%2==0:\n",
        "    i=i*(-1)\n",
        "    sum=sum+1\n",
        "print(sum)"
      ],
      "metadata": {
        "colab": {
          "base_uri": "https://localhost:8080/"
        },
        "id": "lfS_CvtPHEEG",
        "outputId": "09a21d78-646e-4cb4-b509-b4ebdc246ece"
      },
      "execution_count": null,
      "outputs": [
        {
          "output_type": "stream",
          "name": "stdout",
          "text": [
            "enter the number of terms 10\n",
            "5\n"
          ]
        }
      ]
    },
    {
      "cell_type": "code",
      "source": [
        "# GCD of 2 numbers\n",
        "\n",
        "num1 = int(input(\"Enter the largest number \"))\n",
        "num2 = int(input(\"Enter the smallest number \"))\n",
        "if num1%num2==0:\n",
        "  print(\"GCD is \"+str(num2))\n",
        "else:\n",
        "  while num2!=0:\n",
        "    remainder = num1%num2\n",
        "    num1 = num2\n",
        "    num2 = remainder\n",
        "if num2==0:\n",
        "  print(\"GCD is \"+str(num1))"
      ],
      "metadata": {
        "colab": {
          "base_uri": "https://localhost:8080/"
        },
        "id": "P15Wdt-9Kv0E",
        "outputId": "7c9a9654-28f4-43b3-c4a4-51fbda0ee2c2"
      },
      "execution_count": null,
      "outputs": [
        {
          "output_type": "stream",
          "name": "stdout",
          "text": [
            "Enter the largest number 78\n",
            "Enter the smallest number 21\n",
            "GCD is 3\n"
          ]
        }
      ]
    },
    {
      "cell_type": "code",
      "source": [
        "# reverse of a given number.\n",
        "\n",
        "num=int(input(\"Enter the number you want to reverse \"))\n",
        "numcopy=num\n",
        "length=0\n",
        "reverse=0\n",
        "\n",
        "while num>0:\n",
        "  num=num//10\n",
        "  length=length+1\n",
        "\n",
        "while numcopy>0:\n",
        "  length=length-1\n",
        "  rem=numcopy%10\n",
        "  reverse=reverse+rem*pow(10,length)\n",
        "  numcopy=numcopy//10\n",
        "\n",
        "print(\"The Reverse of the Number is \"+str(reverse))"
      ],
      "metadata": {
        "colab": {
          "base_uri": "https://localhost:8080/"
        },
        "id": "030Lt9gANSij",
        "outputId": "966d84a6-671d-42af-9261-f53649c7e4ff"
      },
      "execution_count": null,
      "outputs": [
        {
          "output_type": "stream",
          "name": "stdout",
          "text": [
            "Enter the number you want to reverse 74775\n",
            "The Reverse of the Number is 57747\n"
          ]
        }
      ]
    },
    {
      "cell_type": "code",
      "source": [
        "# a number is palindrome or not\n",
        "\n",
        "num=int(input(\"Enter the number you want to check \"))\n",
        "numcopy1=num\n",
        "numcopy2=num\n",
        "length=0\n",
        "reverse=0\n",
        "\n",
        "while numcopy1>0:\n",
        "  numcopy1=numcopy1//10\n",
        "  length=length+1\n",
        "\n",
        "while numcopy2>0:\n",
        "  length=length-1\n",
        "  rem=numcopy2%10\n",
        "  reverse=reverse+rem*pow(10,length)\n",
        "  numcopy2=numcopy2//10\n",
        "\n",
        "print(reverse)\n",
        "if(reverse==num):\n",
        "  print(\"It is  a paliandrome\")\n",
        "else:\n",
        "  print(\"It is not a paliandrome\")"
      ],
      "metadata": {
        "colab": {
          "base_uri": "https://localhost:8080/"
        },
        "id": "r6UAwLXRS875",
        "outputId": "16f246ba-4814-4f18-c9cf-863c97760ce1"
      },
      "execution_count": null,
      "outputs": [
        {
          "output_type": "stream",
          "name": "stdout",
          "text": [
            "Enter the number you want to check 2456542\n",
            "2456542\n",
            "It is  a paliandrome\n"
          ]
        }
      ]
    },
    {
      "cell_type": "code",
      "source": [
        "# a number is Armstrong or not\n",
        "\n",
        "num=int(input(\"enter the number \"))\n",
        "numcopy1=num\n",
        "numcopy2=num\n",
        "length=0\n",
        "armstrong=0\n",
        "while numcopy1>0:\n",
        "  numcopy1=numcopy1//10\n",
        "  length=length+1\n",
        "while numcopy2>0:\n",
        "  rem=numcopy2%10\n",
        "  armstrong=armstrong+pow(rem,length)\n",
        "  numcopy2=numcopy2//10\n",
        "if armstrong==num:\n",
        "  print(\"it is armstrong \")\n",
        "else:\n",
        "  print(\"it is not armstrong\")"
      ],
      "metadata": {
        "colab": {
          "base_uri": "https://localhost:8080/"
        },
        "id": "mK3GnMQNUHk9",
        "outputId": "643047ed-405e-4952-ba6c-56013accce77"
      },
      "execution_count": null,
      "outputs": [
        {
          "output_type": "stream",
          "name": "stdout",
          "text": [
            "enter the number 153\n",
            "it is armstrong \n"
          ]
        }
      ]
    },
    {
      "cell_type": "code",
      "source": [
        "# evaluate x^n\n",
        "\n",
        "base=int(input(\"enter the base \"))\n",
        "power=int(input(\"enter the power \"))\n",
        "result=1\n",
        "while  power>0:\n",
        "  result=result*base\n",
        "  power=power-1\n",
        "  print(result)"
      ],
      "metadata": {
        "colab": {
          "base_uri": "https://localhost:8080/"
        },
        "id": "GX9skXSQZRdt",
        "outputId": "2ca5f031-0cde-436a-93eb-8a59bba53c86"
      },
      "execution_count": null,
      "outputs": [
        {
          "output_type": "stream",
          "name": "stdout",
          "text": [
            "enter the base 4\n",
            "enter the power 8\n",
            "4\n",
            "16\n",
            "64\n",
            "256\n",
            "1024\n",
            "4096\n",
            "16384\n",
            "65536\n"
          ]
        }
      ]
    },
    {
      "cell_type": "code",
      "source": [
        "# first n odd number\n",
        "\n",
        "limit=int(input(\"enter the limit \"))\n",
        "for i in range(1,2*limit,2):\n",
        "  print(i, end=\",\")"
      ],
      "metadata": {
        "colab": {
          "base_uri": "https://localhost:8080/"
        },
        "id": "LbwUlL_-bay0",
        "outputId": "30206d30-784d-4056-95fd-156f8feb3e7a"
      },
      "execution_count": null,
      "outputs": [
        {
          "output_type": "stream",
          "name": "stdout",
          "text": [
            "enter the limit 12\n",
            "1,3,5,7,9,11,13,15,17,19,21,23,"
          ]
        }
      ]
    },
    {
      "cell_type": "code",
      "source": [
        "# Sum, Difference, Product, Quotient and Remainder of two Unequal Numbers\n",
        "\n",
        "num1=float(input(\"enter the first number \"))\n",
        "num2=float(input(\"enter the second number \"))\n",
        "sum=num1+num2\n",
        "difference=num1-num2\n",
        "product=num1*num2\n",
        "quotient=num1//num2\n",
        "remainder=num1%num2\n",
        "print(\"the sum of numbers is \",sum)\n",
        "print(\"the difference of numbers is \",difference)\n",
        "print(\"the product of numbers is \",product)\n",
        "print(\"the quotient of numbers is \",quotient)\n",
        "print(\"the remainder of numbers is \",remainder)"
      ],
      "metadata": {
        "colab": {
          "base_uri": "https://localhost:8080/"
        },
        "id": "CueYRaWtlVkb",
        "outputId": "c8abd316-c7eb-40e0-d5f1-af8c916ec06d"
      },
      "execution_count": null,
      "outputs": [
        {
          "output_type": "stream",
          "name": "stdout",
          "text": [
            "enter the first number 10\n",
            "enter the second number 2\n",
            "the sum of numbers is  12.0\n",
            "the difference of numbers is  8.0\n",
            "the product of numbers is  20.0\n",
            "the quotient of numbers is  5.0\n",
            "the remainder of numbers is  0.0\n"
          ]
        }
      ]
    }
  ]
}